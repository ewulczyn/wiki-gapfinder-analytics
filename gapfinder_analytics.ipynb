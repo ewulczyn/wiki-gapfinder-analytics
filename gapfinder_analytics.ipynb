{
 "cells": [
  {
   "cell_type": "code",
   "execution_count": 143,
   "metadata": {
    "collapsed": false
   },
   "outputs": [],
   "source": [
    "from db_utils import query_analytics_store\n",
    "import pandas as pd \n",
    "% matplotlib inline\n",
    "import seaborn as sns\n",
    "import numpy as np"
   ]
  },
  {
   "cell_type": "markdown",
   "metadata": {},
   "source": [
    "# Tool Usage"
   ]
  },
  {
   "cell_type": "markdown",
   "metadata": {},
   "source": [
    "### Count Clicks on Translate/Create from Scratch"
   ]
  },
  {
   "cell_type": "code",
   "execution_count": 144,
   "metadata": {
    "collapsed": false
   },
   "outputs": [
    {
     "data": {
      "text/html": [
       "<div>\n",
       "<table border=\"1\" class=\"dataframe\">\n",
       "  <thead>\n",
       "    <tr style=\"text-align: right;\">\n",
       "      <th></th>\n",
       "      <th>event_action</th>\n",
       "      <th>n</th>\n",
       "    </tr>\n",
       "  </thead>\n",
       "  <tbody>\n",
       "    <tr>\n",
       "      <th>0</th>\n",
       "      <td>create_from_scratch</td>\n",
       "      <td>6</td>\n",
       "    </tr>\n",
       "    <tr>\n",
       "      <th>1</th>\n",
       "      <td>create_using_content_translation</td>\n",
       "      <td>88</td>\n",
       "    </tr>\n",
       "  </tbody>\n",
       "</table>\n",
       "</div>"
      ],
      "text/plain": [
       "                       event_action   n\n",
       "0               create_from_scratch   6\n",
       "1  create_using_content_translation  88"
      ]
     },
     "execution_count": 144,
     "metadata": {},
     "output_type": "execute_result"
    }
   ],
   "source": [
    "query = \"\"\"\n",
    "SELECT\n",
    "    a.event_action,\n",
    "    COUNT(*) as n\n",
    "FROM\n",
    "    log.TranslationRecommendationUserAction_15858947 a,\n",
    "    log.TranslationRecommendationUIRequests_15484897 r\n",
    "WHERE \n",
    "    a.event_action in ('create_using_content_translation', 'create_from_scratch')\n",
    "    AND a.event_requestToken = r.event_requestToken\n",
    "GROUP BY\n",
    "    a.event_action\n",
    "\"\"\"\n",
    "query_analytics_store(query, {})"
   ]
  },
  {
   "cell_type": "markdown",
   "metadata": {},
   "source": [
    "### Count CX translations coming from tool"
   ]
  },
  {
   "cell_type": "code",
   "execution_count": 169,
   "metadata": {
    "collapsed": false
   },
   "outputs": [],
   "source": [
    "query = \"\"\"\n",
    "SELECT\n",
    "    cx.translation_source_language as s,\n",
    "    cx.translation_target_language as t,\n",
    "    cx.translation_source_title as source_title,\n",
    "    cx.translation_target_title as target_title,\n",
    "    cx.translation_status,\n",
    "    cx.translation_start_timestamp as start_timestamp,\n",
    "    cx.translation_last_updated_timestamp as last_update_timestamp,\n",
    "    cta.timestamp as cta_timestamp,\n",
    "    u.gu_name,\n",
    "    cx.translation_id\n",
    "\n",
    "FROM\n",
    "    wikishared.cx_translations cx,\n",
    "    log.ContentTranslationCTA_16017678 as cta,\n",
    "    centralauth.globaluser u,\n",
    "    wikishared.cx_translators t\n",
    "    \n",
    "WHERE \n",
    "    cta.event_cta RLIKE 'article-recommender-1'\n",
    "    AND cta.event_sourceLanguage = cx.translation_source_language\n",
    "    AND cta.event_targetLanguage = cx.translation_target_language\n",
    "    AND cta.event_sourceTitle = cx.translation_source_title\n",
    "    AND cx.translation_id = t.translator_translation_id\n",
    "    AND u.gu_id = t.translator_user_id\n",
    "    AND u.gu_name = cta.event_token\n",
    "\"\"\"\n",
    "\n",
    "d = query_analytics_store(query, {})\n",
    "d['cta_timestamp'] = d['cta_timestamp'].apply(lambda x: x[:8])\n",
    "d['start_timestamp'] = d['start_timestamp'].apply(lambda x: x[:8])\n",
    "d['last_update_timestamp'] = d['last_update_timestamp'].apply(lambda x: x[:8])\n",
    "d = d.query(\"cta_timestamp <= start_timestamp\")\n",
    "d['month'] = d['last_update_timestamp'].apply(lambda x: int(x[:6]))\n",
    "d['timestamp'] = pd.to_datetime(d['last_update_timestamp'].apply(lambda x: x[:8]))\n",
    "d = d.drop_duplicates(subset = 'translation_id')"
   ]
  },
  {
   "cell_type": "code",
   "execution_count": 170,
   "metadata": {
    "collapsed": false
   },
   "outputs": [
    {
     "data": {
      "text/plain": [
       "draft    2\n",
       "Name: translation_status, dtype: int64"
      ]
     },
     "execution_count": 170,
     "metadata": {},
     "output_type": "execute_result"
    }
   ],
   "source": [
    "d.translation_status.value_counts()"
   ]
  },
  {
   "cell_type": "markdown",
   "metadata": {},
   "source": [
    "### Count articles created from scratch from tool\n",
    "\n",
    "For this to actually work, we need to log username of the user clicking create from scratch, since the article could have been created by someone else. Right now, I am just enforcing that the timestamps of the create from scratch and on-wiki creation events are close (WIP)."
   ]
  },
  {
   "cell_type": "code",
   "execution_count": 167,
   "metadata": {
    "collapsed": false
   },
   "outputs": [
    {
     "data": {
      "text/html": [
       "<div>\n",
       "<table border=\"1\" class=\"dataframe\">\n",
       "  <thead>\n",
       "    <tr style=\"text-align: right;\">\n",
       "      <th></th>\n",
       "    </tr>\n",
       "  </thead>\n",
       "  <tbody>\n",
       "  </tbody>\n",
       "</table>\n",
       "</div>"
      ],
      "text/plain": [
       "Empty DataFrame\n",
       "Columns: []\n",
       "Index: []"
      ]
     },
     "execution_count": 167,
     "metadata": {},
     "output_type": "execute_result"
    }
   ],
   "source": [
    "\n",
    "query = \"\"\"\n",
    "SELECT \n",
    "    *\n",
    "FROM\n",
    "    log.PageCreation_7481635 c,\n",
    "    log.TranslationRecommendationUserAction_15419947 a,\n",
    "    log.TranslationRecommendationUIRequests_15484897 r\n",
    "WHERE \n",
    "    CONCAT(r.event_targetLanguage, '.wikipedia.org') = c.webHost\n",
    "    AND a.event_requestToken = r.event_requestToken\n",
    "    AND a.event_targetTitle = c.event_title \n",
    "    AND a.event_action = 'create_from_scratch' \n",
    "    AND c.event_namespace = 0\n",
    "LIMIT 10\n",
    "\"\"\"\n",
    "#query_analytics_store(query , {})"
   ]
  },
  {
   "cell_type": "markdown",
   "metadata": {
    "collapsed": true
   },
   "source": [
    "# Suggestions API"
   ]
  },
  {
   "cell_type": "markdown",
   "metadata": {},
   "source": [
    "### Count CX translations coming suggestions feature"
   ]
  },
  {
   "cell_type": "code",
   "execution_count": 163,
   "metadata": {
    "collapsed": false
   },
   "outputs": [],
   "source": [
    "query = \"\"\"\n",
    "SELECT\n",
    "    cx.translation_source_language as s,\n",
    "    cx.translation_target_language as t,\n",
    "    cx.translation_source_title as source_title,\n",
    "    cx.translation_target_title as target_title,\n",
    "    cx.translation_status,\n",
    "    cx.translation_start_timestamp as start_timestamp,\n",
    "    cx.translation_last_updated_timestamp as last_update_timestamp,\n",
    "    cta.timestamp as cta_timestamp,\n",
    "    u.gu_name,\n",
    "    cx.translation_id\n",
    "FROM\n",
    "    log.ContentTranslationCTA_16017678 as cta,\n",
    "    wikishared.cx_translations cx,\n",
    "    wikishared.cx_translators t,\n",
    "    centralauth.globaluser u\n",
    "WHERE \n",
    "    cta.event_cta RLIKE 'suggestions-type'\n",
    "    AND cta.event_sourceLanguage = cx.translation_source_language\n",
    "    AND cta.event_targetLanguage = cx.translation_target_language\n",
    "    AND cta.event_sourceTitle = cx.translation_source_title\n",
    "    AND cx.translation_id = t.translator_translation_id\n",
    "    AND u.gu_id = t.translator_user_id\n",
    "    AND u.gu_name = cta.event_token\n",
    "\"\"\"\n",
    "\n",
    "d = query_analytics_store(query, {})\n",
    "d['cta_timestamp'] = d['cta_timestamp'].apply(lambda x: x[:8])\n",
    "d['start_timestamp'] = d['start_timestamp'].apply(lambda x: x[:8])\n",
    "d['last_update_timestamp'] = d['last_update_timestamp'].apply(lambda x: x[:8])\n",
    "d = d.query(\"cta_timestamp <= start_timestamp\")\n",
    "d['month'] = d['last_update_timestamp'].apply(lambda x: int(x[:6]))\n",
    "d['timestamp'] = pd.to_datetime(d['last_update_timestamp'].apply(lambda x: x[:8]))\n",
    "d = d.drop_duplicates(subset = 'translation_id')"
   ]
  },
  {
   "cell_type": "code",
   "execution_count": 164,
   "metadata": {
    "collapsed": false
   },
   "outputs": [
    {
     "data": {
      "text/plain": [
       "draft        109\n",
       "published     96\n",
       "Name: translation_status, dtype: int64"
      ]
     },
     "execution_count": 164,
     "metadata": {},
     "output_type": "execute_result"
    }
   ],
   "source": [
    "d[\"translation_status\"].value_counts()"
   ]
  },
  {
   "cell_type": "code",
   "execution_count": 166,
   "metadata": {
    "collapsed": false
   },
   "outputs": [
    {
     "data": {
      "text/plain": [
       "<matplotlib.axes._subplots.AxesSubplot at 0x117fdf668>"
      ]
     },
     "execution_count": 166,
     "metadata": {},
     "output_type": "execute_result"
    },
    {
     "data": {
      "image/png": "[encoded data removed]",
      "text/plain": [
       "<matplotlib.figure.Figure at 0x117ee9a90>"
      ]
     },
     "metadata": {},
     "output_type": "display_data"
    }
   ],
   "source": [
    "d['count'] = 1\n",
    "sns.pointplot(x = 'month', y = 'count', data = d, estimator = np.sum, hue = 'translation_status')"
   ]
  }
 ],
 "metadata": {
  "anaconda-cloud": {},
  "kernelspec": {
   "display_name": "Python [default]",
   "language": "python",
   "name": "python3"
  },
  "language_info": {
   "codemirror_mode": {
    "name": "ipython",
    "version": 3
   },
   "file_extension": ".py",
   "mimetype": "text/x-python",
   "name": "python",
   "nbconvert_exporter": "python",
   "pygments_lexer": "ipython3",
   "version": "3.5.1"
  }
 },
 "nbformat": 4,
 "nbformat_minor": 0
}
